{
  "nbformat": 4,
  "nbformat_minor": 0,
  "metadata": {
    "colab": {
      "provenance": [],
      "collapsed_sections": []
    },
    "kernelspec": {
      "name": "python3",
      "display_name": "Python 3"
    },
    "language_info": {
      "name": "python"
    }
  },
  "cells": [
    {
      "cell_type": "markdown",
      "source": [
        "# Tugas Case Study 02 Kelompok 5\n",
        "\n",
        "1. 1906375700\tTeguh Saputra\n",
        "2. 1906377851\tAmmar Yazid Daffala\n",
        "3. 1906375713\tNathanael Andrian Patrick\n",
        "4. 1906376640\tMuhammad Rangga Buwana\n",
        "5. 1906304263\tMohammad Lanang Syeikha\n",
        "6. 1906306054\tRizqa Fatika Fajrianti\n",
        "7. 1906375820\tRisfania Nurdinda Sari\n",
        "8. 1906377864\tNurul Annisa"
      ],
      "metadata": {
        "id": "dwScOeL4GQAb"
      }
    },
    {
      "cell_type": "markdown",
      "source": [
        "Berdasarkan data dan instruksi yang telah diberikan, akan dilakukan analisis data dengan metode clustering untuk mendapatkan insight untuk membantu MixITup Ice Cream dalam meningkatkan jangkauan bisnis dan menentukan cara marketing terbaik untuk menarik pelanggan"
      ],
      "metadata": {
        "id": "jTbmEqqtVbAB"
      }
    },
    {
      "cell_type": "code",
      "source": [
        "import numpy as np\n",
        "import pandas as pd\n",
        "import matplotlib.pyplot as plt\n",
        "import seaborn as sns\n",
        "from sklearn import cluster, datasets\n",
        "from sklearn.metrics import silhouette_score, davies_bouldin_score\n",
        "from scipy.spatial.distance import euclidean\n",
        "from sklearn import preprocessing\n",
        "from sklearn.neighbors import NearestNeighbors\n",
        "from random import sample\n",
        "from numpy.random import uniform \n",
        "from math import isnan\n",
        "import pytest\n",
        "import setuptools"
      ],
      "metadata": {
        "id": "x93UFrPADpxP"
      },
      "execution_count": 1,
      "outputs": []
    },
    {
      "cell_type": "code",
      "source": [
        "### Import The Data ###\n",
        "\n",
        "df = pd.read_csv('https://raw.githubusercontent.com/Ammardaffala/ADM-Case-02-Clustering/main/Case-Study-02-MixITup%20(1).csv',\n",
        "                 sep=';')\n",
        "\n",
        "df.info()"
      ],
      "metadata": {
        "colab": {
          "base_uri": "https://localhost:8080/"
        },
        "id": "X3-FuSfJDzxM",
        "outputId": "2b30a800-571a-4b61-a4fa-62d1ba7a7cf9"
      },
      "execution_count": 2,
      "outputs": [
        {
          "output_type": "stream",
          "name": "stdout",
          "text": [
            "<class 'pandas.core.frame.DataFrame'>\n",
            "RangeIndex: 200 entries, 0 to 199\n",
            "Data columns (total 10 columns):\n",
            " #   Column                Non-Null Count  Dtype  \n",
            "---  ------                --------------  -----  \n",
            " 0   ID                    200 non-null    int64  \n",
            " 1   Jenis Kelamin         196 non-null    object \n",
            " 2   Umur                  200 non-null    object \n",
            " 3   Pendapatan-per-bulan  200 non-null    object \n",
            " 4   skor-pengeluaran      200 non-null    int64  \n",
            " 5   Menikah               188 non-null    object \n",
            " 6   Kota                  200 non-null    object \n",
            " 7   Promo                 194 non-null    float64\n",
            " 8   HariFav               200 non-null    object \n",
            " 9   FavFlavor             200 non-null    int64  \n",
            "dtypes: float64(1), int64(3), object(6)\n",
            "memory usage: 15.8+ KB\n"
          ]
        }
      ]
    },
    {
      "cell_type": "markdown",
      "source": [
        "## Data Preprocessing"
      ],
      "metadata": {
        "id": "1JCyF9j7G9zH"
      }
    },
    {
      "cell_type": "markdown",
      "source": [
        "Sebelum melakukan analisis, akan dilakukan data preprocessing terlebih dahulu agar data yang diberikan siap untuk digunakan dalam proses analisis"
      ],
      "metadata": {
        "id": "TPgD1f_cNVSd"
      }
    },
    {
      "cell_type": "markdown",
      "source": [
        "1. Untuk variabel umur, terdapat data yang tidak sesuai dengan tipe data yang seharusnya, sehingga dilakukan perubahan tipe data pada data tersebut\n",
        "2. Untuk variabel pendapatan per bulan, akan dihilangkan 'Rp' dan tanda '.' sehingga tipe data pendapatan per bulan dapat diubah menjadi integer"
      ],
      "metadata": {
        "id": "Qc608ELGeqAQ"
      }
    },
    {
      "cell_type": "code",
      "source": [
        "### Bersihkan Kolom \"Umur\" dan \"Pendapatan-per-bulan\"\n",
        "\n",
        "df.loc[df['Umur']==\"35'\", 'Umur'] = 35\n",
        "df['Pendapatan-per-bulan'] = [x.strip('Rp') for x in df['Pendapatan-per-bulan']]\n",
        "df['Pendapatan-per-bulan'] = [x.replace('.','') for x in df['Pendapatan-per-bulan']]"
      ],
      "metadata": {
        "id": "_anji7j4IHfV"
      },
      "execution_count": 3,
      "outputs": []
    },
    {
      "cell_type": "code",
      "source": [
        "### Bersihkan \"Noise\" yang terdapat pada Beberapa Kolom yang ada pada data ###\n",
        "\n",
        "# Data Cleansing\n",
        "df.replace('-', np.nan,inplace=True)\n",
        "df.replace(' ', np.nan,inplace=True)\n",
        "\n",
        "# Pendapatan tidak mungkin 0 tapi bisa membeli\n",
        "# Nilai 0 merupakan outliers bawah. Kami memutuskan untuk merubahnya menjadi NA\n",
        "df['Pendapatan-per-bulan'].replace(0, np.nan, inplace=True)\n",
        "\n",
        "# Terdapat kesalahan terhadap penulisan\n",
        "df['Kota'].replace('JJakarta','Jakarta', inplace=True)\n",
        "\n",
        "# Rentang skor-pengeluaran 0-100\n",
        "df['skor-pengeluaran'].replace(101,100,inplace=True)\n",
        "\n",
        "# Rentang promo 0-3\n",
        "df['Promo'].replace(5.0, 3.0, inplace=True)\n",
        "\n",
        "# Hanya ada 8 varian rasa\n",
        "df['FavFlavor'].replace(9, 8, inplace=True)\n",
        "\n",
        "df.info()"
      ],
      "metadata": {
        "colab": {
          "base_uri": "https://localhost:8080/"
        },
        "id": "gjfoLkGXPEz4",
        "outputId": "73bc6318-9271-49d6-a542-b0702c65d2c7"
      },
      "execution_count": 4,
      "outputs": [
        {
          "output_type": "stream",
          "name": "stdout",
          "text": [
            "<class 'pandas.core.frame.DataFrame'>\n",
            "RangeIndex: 200 entries, 0 to 199\n",
            "Data columns (total 10 columns):\n",
            " #   Column                Non-Null Count  Dtype  \n",
            "---  ------                --------------  -----  \n",
            " 0   ID                    200 non-null    int64  \n",
            " 1   Jenis Kelamin         195 non-null    object \n",
            " 2   Umur                  200 non-null    object \n",
            " 3   Pendapatan-per-bulan  200 non-null    object \n",
            " 4   skor-pengeluaran      200 non-null    int64  \n",
            " 5   Menikah               186 non-null    object \n",
            " 6   Kota                  200 non-null    object \n",
            " 7   Promo                 194 non-null    float64\n",
            " 8   HariFav               200 non-null    object \n",
            " 9   FavFlavor             200 non-null    int64  \n",
            "dtypes: float64(1), int64(3), object(6)\n",
            "memory usage: 15.8+ KB\n"
          ]
        }
      ]
    },
    {
      "cell_type": "code",
      "source": [
        "### Drop semua baris yang mengandung missing values ###\n",
        "\n",
        "print(df.isna().sum())\n",
        "print('\\n')\n",
        "\n",
        "df.dropna(inplace=True)\n",
        "\n",
        "print(df.info())"
      ],
      "metadata": {
        "colab": {
          "base_uri": "https://localhost:8080/"
        },
        "id": "-LtBGYUeP6A4",
        "outputId": "4fc87a1c-6b5a-468b-d0be-4811f0a4ef6c"
      },
      "execution_count": 5,
      "outputs": [
        {
          "output_type": "stream",
          "name": "stdout",
          "text": [
            "ID                       0\n",
            "Jenis Kelamin            5\n",
            "Umur                     0\n",
            "Pendapatan-per-bulan     0\n",
            "skor-pengeluaran         0\n",
            "Menikah                 14\n",
            "Kota                     0\n",
            "Promo                    6\n",
            "HariFav                  0\n",
            "FavFlavor                0\n",
            "dtype: int64\n",
            "\n",
            "\n",
            "<class 'pandas.core.frame.DataFrame'>\n",
            "Int64Index: 176 entries, 0 to 199\n",
            "Data columns (total 10 columns):\n",
            " #   Column                Non-Null Count  Dtype  \n",
            "---  ------                --------------  -----  \n",
            " 0   ID                    176 non-null    int64  \n",
            " 1   Jenis Kelamin         176 non-null    object \n",
            " 2   Umur                  176 non-null    object \n",
            " 3   Pendapatan-per-bulan  176 non-null    object \n",
            " 4   skor-pengeluaran      176 non-null    int64  \n",
            " 5   Menikah               176 non-null    object \n",
            " 6   Kota                  176 non-null    object \n",
            " 7   Promo                 176 non-null    float64\n",
            " 8   HariFav               176 non-null    object \n",
            " 9   FavFlavor             176 non-null    int64  \n",
            "dtypes: float64(1), int64(3), object(6)\n",
            "memory usage: 15.1+ KB\n",
            "None\n"
          ]
        }
      ]
    },
    {
      "cell_type": "markdown",
      "source": [
        "Selanjutnya akan dilakukan penggantian tipe data untuk kolom yang belum sesuai. Kolom Jenis Kelamin, Kota, Promo, HariFav, dan FavFlavor diubah menjadi kategorik. Untuk kolom Umur, Pendapatan-per-bulan, dan Menikah akan diubah menjadi integer."
      ],
      "metadata": {
        "id": "o80NgBHge2bg"
      }
    },
    {
      "cell_type": "code",
      "source": [
        "### Ganti Tipe Kolom ###\n",
        "\n",
        "df['Jenis Kelamin'] = df['Jenis Kelamin'].astype('category')\n",
        "df['Umur'] = df['Umur'].astype('int64')\n",
        "df['Pendapatan-per-bulan'] = df['Pendapatan-per-bulan'].astype('int64')\n",
        "df['Menikah'] = df['Menikah'].astype('category')\n",
        "df['Kota'] = df['Kota'].astype('category')\n",
        "df['Promo'] = df['Promo'].astype('category')\n",
        "df['HariFav'] = df['HariFav'].astype('category')\n",
        "df['FavFlavor'] = df['FavFlavor'].astype('category')"
      ],
      "metadata": {
        "id": "ydHcRXwpJSMs"
      },
      "execution_count": 6,
      "outputs": []
    },
    {
      "cell_type": "code",
      "source": [
        "### Drop kolom ID ###\n",
        "\n",
        "df.drop(columns=['ID'], inplace=True)"
      ],
      "metadata": {
        "id": "3EL-x3VKWOrt"
      },
      "execution_count": 7,
      "outputs": []
    },
    {
      "cell_type": "markdown",
      "source": [
        "## EDA"
      ],
      "metadata": {
        "id": "xvFVESSrUoue"
      }
    },
    {
      "cell_type": "code",
      "source": [
        "df.describe()"
      ],
      "metadata": {
        "id": "O6jjMX6oVP2K",
        "colab": {
          "base_uri": "https://localhost:8080/",
          "height": 300
        },
        "outputId": "ccf7adea-f95a-4a58-9366-227793dec2fe"
      },
      "execution_count": 8,
      "outputs": [
        {
          "output_type": "execute_result",
          "data": {
            "text/plain": [
              "             Umur  Pendapatan-per-bulan  skor-pengeluaran\n",
              "count  176.000000          1.760000e+02        176.000000\n",
              "mean    37.136364          1.858933e+07         50.448864\n",
              "std     12.324361          1.058554e+07         26.001048\n",
              "min      2.000000          0.000000e+00          1.000000\n",
              "25%     27.000000          1.106557e+07         34.750000\n",
              "50%     36.000000          1.885246e+07         51.000000\n",
              "75%     47.000000          2.540984e+07         73.000000\n",
              "max     60.000000          5.000000e+07         99.000000"
            ],
            "text/html": [
              "\n",
              "  <div id=\"df-bdf494f1-5260-4187-9648-e809efcd86be\">\n",
              "    <div class=\"colab-df-container\">\n",
              "      <div>\n",
              "<style scoped>\n",
              "    .dataframe tbody tr th:only-of-type {\n",
              "        vertical-align: middle;\n",
              "    }\n",
              "\n",
              "    .dataframe tbody tr th {\n",
              "        vertical-align: top;\n",
              "    }\n",
              "\n",
              "    .dataframe thead th {\n",
              "        text-align: right;\n",
              "    }\n",
              "</style>\n",
              "<table border=\"1\" class=\"dataframe\">\n",
              "  <thead>\n",
              "    <tr style=\"text-align: right;\">\n",
              "      <th></th>\n",
              "      <th>Umur</th>\n",
              "      <th>Pendapatan-per-bulan</th>\n",
              "      <th>skor-pengeluaran</th>\n",
              "    </tr>\n",
              "  </thead>\n",
              "  <tbody>\n",
              "    <tr>\n",
              "      <th>count</th>\n",
              "      <td>176.000000</td>\n",
              "      <td>1.760000e+02</td>\n",
              "      <td>176.000000</td>\n",
              "    </tr>\n",
              "    <tr>\n",
              "      <th>mean</th>\n",
              "      <td>37.136364</td>\n",
              "      <td>1.858933e+07</td>\n",
              "      <td>50.448864</td>\n",
              "    </tr>\n",
              "    <tr>\n",
              "      <th>std</th>\n",
              "      <td>12.324361</td>\n",
              "      <td>1.058554e+07</td>\n",
              "      <td>26.001048</td>\n",
              "    </tr>\n",
              "    <tr>\n",
              "      <th>min</th>\n",
              "      <td>2.000000</td>\n",
              "      <td>0.000000e+00</td>\n",
              "      <td>1.000000</td>\n",
              "    </tr>\n",
              "    <tr>\n",
              "      <th>25%</th>\n",
              "      <td>27.000000</td>\n",
              "      <td>1.106557e+07</td>\n",
              "      <td>34.750000</td>\n",
              "    </tr>\n",
              "    <tr>\n",
              "      <th>50%</th>\n",
              "      <td>36.000000</td>\n",
              "      <td>1.885246e+07</td>\n",
              "      <td>51.000000</td>\n",
              "    </tr>\n",
              "    <tr>\n",
              "      <th>75%</th>\n",
              "      <td>47.000000</td>\n",
              "      <td>2.540984e+07</td>\n",
              "      <td>73.000000</td>\n",
              "    </tr>\n",
              "    <tr>\n",
              "      <th>max</th>\n",
              "      <td>60.000000</td>\n",
              "      <td>5.000000e+07</td>\n",
              "      <td>99.000000</td>\n",
              "    </tr>\n",
              "  </tbody>\n",
              "</table>\n",
              "</div>\n",
              "      <button class=\"colab-df-convert\" onclick=\"convertToInteractive('df-bdf494f1-5260-4187-9648-e809efcd86be')\"\n",
              "              title=\"Convert this dataframe to an interactive table.\"\n",
              "              style=\"display:none;\">\n",
              "        \n",
              "  <svg xmlns=\"http://www.w3.org/2000/svg\" height=\"24px\"viewBox=\"0 0 24 24\"\n",
              "       width=\"24px\">\n",
              "    <path d=\"M0 0h24v24H0V0z\" fill=\"none\"/>\n",
              "    <path d=\"M18.56 5.44l.94 2.06.94-2.06 2.06-.94-2.06-.94-.94-2.06-.94 2.06-2.06.94zm-11 1L8.5 8.5l.94-2.06 2.06-.94-2.06-.94L8.5 2.5l-.94 2.06-2.06.94zm10 10l.94 2.06.94-2.06 2.06-.94-2.06-.94-.94-2.06-.94 2.06-2.06.94z\"/><path d=\"M17.41 7.96l-1.37-1.37c-.4-.4-.92-.59-1.43-.59-.52 0-1.04.2-1.43.59L10.3 9.45l-7.72 7.72c-.78.78-.78 2.05 0 2.83L4 21.41c.39.39.9.59 1.41.59.51 0 1.02-.2 1.41-.59l7.78-7.78 2.81-2.81c.8-.78.8-2.07 0-2.86zM5.41 20L4 18.59l7.72-7.72 1.47 1.35L5.41 20z\"/>\n",
              "  </svg>\n",
              "      </button>\n",
              "      \n",
              "  <style>\n",
              "    .colab-df-container {\n",
              "      display:flex;\n",
              "      flex-wrap:wrap;\n",
              "      gap: 12px;\n",
              "    }\n",
              "\n",
              "    .colab-df-convert {\n",
              "      background-color: #E8F0FE;\n",
              "      border: none;\n",
              "      border-radius: 50%;\n",
              "      cursor: pointer;\n",
              "      display: none;\n",
              "      fill: #1967D2;\n",
              "      height: 32px;\n",
              "      padding: 0 0 0 0;\n",
              "      width: 32px;\n",
              "    }\n",
              "\n",
              "    .colab-df-convert:hover {\n",
              "      background-color: #E2EBFA;\n",
              "      box-shadow: 0px 1px 2px rgba(60, 64, 67, 0.3), 0px 1px 3px 1px rgba(60, 64, 67, 0.15);\n",
              "      fill: #174EA6;\n",
              "    }\n",
              "\n",
              "    [theme=dark] .colab-df-convert {\n",
              "      background-color: #3B4455;\n",
              "      fill: #D2E3FC;\n",
              "    }\n",
              "\n",
              "    [theme=dark] .colab-df-convert:hover {\n",
              "      background-color: #434B5C;\n",
              "      box-shadow: 0px 1px 3px 1px rgba(0, 0, 0, 0.15);\n",
              "      filter: drop-shadow(0px 1px 2px rgba(0, 0, 0, 0.3));\n",
              "      fill: #FFFFFF;\n",
              "    }\n",
              "  </style>\n",
              "\n",
              "      <script>\n",
              "        const buttonEl =\n",
              "          document.querySelector('#df-bdf494f1-5260-4187-9648-e809efcd86be button.colab-df-convert');\n",
              "        buttonEl.style.display =\n",
              "          google.colab.kernel.accessAllowed ? 'block' : 'none';\n",
              "\n",
              "        async function convertToInteractive(key) {\n",
              "          const element = document.querySelector('#df-bdf494f1-5260-4187-9648-e809efcd86be');\n",
              "          const dataTable =\n",
              "            await google.colab.kernel.invokeFunction('convertToInteractive',\n",
              "                                                     [key], {});\n",
              "          if (!dataTable) return;\n",
              "\n",
              "          const docLinkHtml = 'Like what you see? Visit the ' +\n",
              "            '<a target=\"_blank\" href=https://colab.research.google.com/notebooks/data_table.ipynb>data table notebook</a>'\n",
              "            + ' to learn more about interactive tables.';\n",
              "          element.innerHTML = '';\n",
              "          dataTable['output_type'] = 'display_data';\n",
              "          await google.colab.output.renderOutput(dataTable, element);\n",
              "          const docLink = document.createElement('div');\n",
              "          docLink.innerHTML = docLinkHtml;\n",
              "          element.appendChild(docLink);\n",
              "        }\n",
              "      </script>\n",
              "    </div>\n",
              "  </div>\n",
              "  "
            ]
          },
          "metadata": {},
          "execution_count": 8
        }
      ]
    },
    {
      "cell_type": "code",
      "source": [
        "df_cat = df.select_dtypes(include = ['category'])\n",
        "df_cat.head()"
      ],
      "metadata": {
        "colab": {
          "base_uri": "https://localhost:8080/",
          "height": 206
        },
        "id": "iA9jvIrHfFPD",
        "outputId": "b01ac87a-fa06-4b25-b85e-61de59e5e035"
      },
      "execution_count": 9,
      "outputs": [
        {
          "output_type": "execute_result",
          "data": {
            "text/plain": [
              "  Jenis Kelamin Menikah     Kota Promo HariFav FavFlavor\n",
              "0        Wanita       1  Jakarta   1.0   Sabtu         2\n",
              "1        Wanita       1    Depok   1.0  Minggu         6\n",
              "2          Pria       1  Jakarta   2.0  Minggu         3\n",
              "3          Pria       0  Jakarta   1.0    Rabu         7\n",
              "4        Wanita       1  Jakarta   2.0   Senin         8"
            ],
            "text/html": [
              "\n",
              "  <div id=\"df-5a7bada2-1b0d-43aa-9d95-376c1098bb06\">\n",
              "    <div class=\"colab-df-container\">\n",
              "      <div>\n",
              "<style scoped>\n",
              "    .dataframe tbody tr th:only-of-type {\n",
              "        vertical-align: middle;\n",
              "    }\n",
              "\n",
              "    .dataframe tbody tr th {\n",
              "        vertical-align: top;\n",
              "    }\n",
              "\n",
              "    .dataframe thead th {\n",
              "        text-align: right;\n",
              "    }\n",
              "</style>\n",
              "<table border=\"1\" class=\"dataframe\">\n",
              "  <thead>\n",
              "    <tr style=\"text-align: right;\">\n",
              "      <th></th>\n",
              "      <th>Jenis Kelamin</th>\n",
              "      <th>Menikah</th>\n",
              "      <th>Kota</th>\n",
              "      <th>Promo</th>\n",
              "      <th>HariFav</th>\n",
              "      <th>FavFlavor</th>\n",
              "    </tr>\n",
              "  </thead>\n",
              "  <tbody>\n",
              "    <tr>\n",
              "      <th>0</th>\n",
              "      <td>Wanita</td>\n",
              "      <td>1</td>\n",
              "      <td>Jakarta</td>\n",
              "      <td>1.0</td>\n",
              "      <td>Sabtu</td>\n",
              "      <td>2</td>\n",
              "    </tr>\n",
              "    <tr>\n",
              "      <th>1</th>\n",
              "      <td>Wanita</td>\n",
              "      <td>1</td>\n",
              "      <td>Depok</td>\n",
              "      <td>1.0</td>\n",
              "      <td>Minggu</td>\n",
              "      <td>6</td>\n",
              "    </tr>\n",
              "    <tr>\n",
              "      <th>2</th>\n",
              "      <td>Pria</td>\n",
              "      <td>1</td>\n",
              "      <td>Jakarta</td>\n",
              "      <td>2.0</td>\n",
              "      <td>Minggu</td>\n",
              "      <td>3</td>\n",
              "    </tr>\n",
              "    <tr>\n",
              "      <th>3</th>\n",
              "      <td>Pria</td>\n",
              "      <td>0</td>\n",
              "      <td>Jakarta</td>\n",
              "      <td>1.0</td>\n",
              "      <td>Rabu</td>\n",
              "      <td>7</td>\n",
              "    </tr>\n",
              "    <tr>\n",
              "      <th>4</th>\n",
              "      <td>Wanita</td>\n",
              "      <td>1</td>\n",
              "      <td>Jakarta</td>\n",
              "      <td>2.0</td>\n",
              "      <td>Senin</td>\n",
              "      <td>8</td>\n",
              "    </tr>\n",
              "  </tbody>\n",
              "</table>\n",
              "</div>\n",
              "      <button class=\"colab-df-convert\" onclick=\"convertToInteractive('df-5a7bada2-1b0d-43aa-9d95-376c1098bb06')\"\n",
              "              title=\"Convert this dataframe to an interactive table.\"\n",
              "              style=\"display:none;\">\n",
              "        \n",
              "  <svg xmlns=\"http://www.w3.org/2000/svg\" height=\"24px\"viewBox=\"0 0 24 24\"\n",
              "       width=\"24px\">\n",
              "    <path d=\"M0 0h24v24H0V0z\" fill=\"none\"/>\n",
              "    <path d=\"M18.56 5.44l.94 2.06.94-2.06 2.06-.94-2.06-.94-.94-2.06-.94 2.06-2.06.94zm-11 1L8.5 8.5l.94-2.06 2.06-.94-2.06-.94L8.5 2.5l-.94 2.06-2.06.94zm10 10l.94 2.06.94-2.06 2.06-.94-2.06-.94-.94-2.06-.94 2.06-2.06.94z\"/><path d=\"M17.41 7.96l-1.37-1.37c-.4-.4-.92-.59-1.43-.59-.52 0-1.04.2-1.43.59L10.3 9.45l-7.72 7.72c-.78.78-.78 2.05 0 2.83L4 21.41c.39.39.9.59 1.41.59.51 0 1.02-.2 1.41-.59l7.78-7.78 2.81-2.81c.8-.78.8-2.07 0-2.86zM5.41 20L4 18.59l7.72-7.72 1.47 1.35L5.41 20z\"/>\n",
              "  </svg>\n",
              "      </button>\n",
              "      \n",
              "  <style>\n",
              "    .colab-df-container {\n",
              "      display:flex;\n",
              "      flex-wrap:wrap;\n",
              "      gap: 12px;\n",
              "    }\n",
              "\n",
              "    .colab-df-convert {\n",
              "      background-color: #E8F0FE;\n",
              "      border: none;\n",
              "      border-radius: 50%;\n",
              "      cursor: pointer;\n",
              "      display: none;\n",
              "      fill: #1967D2;\n",
              "      height: 32px;\n",
              "      padding: 0 0 0 0;\n",
              "      width: 32px;\n",
              "    }\n",
              "\n",
              "    .colab-df-convert:hover {\n",
              "      background-color: #E2EBFA;\n",
              "      box-shadow: 0px 1px 2px rgba(60, 64, 67, 0.3), 0px 1px 3px 1px rgba(60, 64, 67, 0.15);\n",
              "      fill: #174EA6;\n",
              "    }\n",
              "\n",
              "    [theme=dark] .colab-df-convert {\n",
              "      background-color: #3B4455;\n",
              "      fill: #D2E3FC;\n",
              "    }\n",
              "\n",
              "    [theme=dark] .colab-df-convert:hover {\n",
              "      background-color: #434B5C;\n",
              "      box-shadow: 0px 1px 3px 1px rgba(0, 0, 0, 0.15);\n",
              "      filter: drop-shadow(0px 1px 2px rgba(0, 0, 0, 0.3));\n",
              "      fill: #FFFFFF;\n",
              "    }\n",
              "  </style>\n",
              "\n",
              "      <script>\n",
              "        const buttonEl =\n",
              "          document.querySelector('#df-5a7bada2-1b0d-43aa-9d95-376c1098bb06 button.colab-df-convert');\n",
              "        buttonEl.style.display =\n",
              "          google.colab.kernel.accessAllowed ? 'block' : 'none';\n",
              "\n",
              "        async function convertToInteractive(key) {\n",
              "          const element = document.querySelector('#df-5a7bada2-1b0d-43aa-9d95-376c1098bb06');\n",
              "          const dataTable =\n",
              "            await google.colab.kernel.invokeFunction('convertToInteractive',\n",
              "                                                     [key], {});\n",
              "          if (!dataTable) return;\n",
              "\n",
              "          const docLinkHtml = 'Like what you see? Visit the ' +\n",
              "            '<a target=\"_blank\" href=https://colab.research.google.com/notebooks/data_table.ipynb>data table notebook</a>'\n",
              "            + ' to learn more about interactive tables.';\n",
              "          element.innerHTML = '';\n",
              "          dataTable['output_type'] = 'display_data';\n",
              "          await google.colab.output.renderOutput(dataTable, element);\n",
              "          const docLink = document.createElement('div');\n",
              "          docLink.innerHTML = docLinkHtml;\n",
              "          element.appendChild(docLink);\n",
              "        }\n",
              "      </script>\n",
              "    </div>\n",
              "  </div>\n",
              "  "
            ]
          },
          "metadata": {},
          "execution_count": 9
        }
      ]
    },
    {
      "cell_type": "code",
      "source": [
        "df_cat = df.select_dtypes(include = ['category'])\n",
        "df_cat.head()"
      ],
      "metadata": {
        "colab": {
          "base_uri": "https://localhost:8080/",
          "height": 206
        },
        "id": "zF6liGkpfRY5",
        "outputId": "166ad8f9-6788-4a4c-c249-58e589ed0ff1"
      },
      "execution_count": 10,
      "outputs": [
        {
          "output_type": "execute_result",
          "data": {
            "text/plain": [
              "  Jenis Kelamin Menikah     Kota Promo HariFav FavFlavor\n",
              "0        Wanita       1  Jakarta   1.0   Sabtu         2\n",
              "1        Wanita       1    Depok   1.0  Minggu         6\n",
              "2          Pria       1  Jakarta   2.0  Minggu         3\n",
              "3          Pria       0  Jakarta   1.0    Rabu         7\n",
              "4        Wanita       1  Jakarta   2.0   Senin         8"
            ],
            "text/html": [
              "\n",
              "  <div id=\"df-0e8eccad-e764-4778-91d8-d91b844def6a\">\n",
              "    <div class=\"colab-df-container\">\n",
              "      <div>\n",
              "<style scoped>\n",
              "    .dataframe tbody tr th:only-of-type {\n",
              "        vertical-align: middle;\n",
              "    }\n",
              "\n",
              "    .dataframe tbody tr th {\n",
              "        vertical-align: top;\n",
              "    }\n",
              "\n",
              "    .dataframe thead th {\n",
              "        text-align: right;\n",
              "    }\n",
              "</style>\n",
              "<table border=\"1\" class=\"dataframe\">\n",
              "  <thead>\n",
              "    <tr style=\"text-align: right;\">\n",
              "      <th></th>\n",
              "      <th>Jenis Kelamin</th>\n",
              "      <th>Menikah</th>\n",
              "      <th>Kota</th>\n",
              "      <th>Promo</th>\n",
              "      <th>HariFav</th>\n",
              "      <th>FavFlavor</th>\n",
              "    </tr>\n",
              "  </thead>\n",
              "  <tbody>\n",
              "    <tr>\n",
              "      <th>0</th>\n",
              "      <td>Wanita</td>\n",
              "      <td>1</td>\n",
              "      <td>Jakarta</td>\n",
              "      <td>1.0</td>\n",
              "      <td>Sabtu</td>\n",
              "      <td>2</td>\n",
              "    </tr>\n",
              "    <tr>\n",
              "      <th>1</th>\n",
              "      <td>Wanita</td>\n",
              "      <td>1</td>\n",
              "      <td>Depok</td>\n",
              "      <td>1.0</td>\n",
              "      <td>Minggu</td>\n",
              "      <td>6</td>\n",
              "    </tr>\n",
              "    <tr>\n",
              "      <th>2</th>\n",
              "      <td>Pria</td>\n",
              "      <td>1</td>\n",
              "      <td>Jakarta</td>\n",
              "      <td>2.0</td>\n",
              "      <td>Minggu</td>\n",
              "      <td>3</td>\n",
              "    </tr>\n",
              "    <tr>\n",
              "      <th>3</th>\n",
              "      <td>Pria</td>\n",
              "      <td>0</td>\n",
              "      <td>Jakarta</td>\n",
              "      <td>1.0</td>\n",
              "      <td>Rabu</td>\n",
              "      <td>7</td>\n",
              "    </tr>\n",
              "    <tr>\n",
              "      <th>4</th>\n",
              "      <td>Wanita</td>\n",
              "      <td>1</td>\n",
              "      <td>Jakarta</td>\n",
              "      <td>2.0</td>\n",
              "      <td>Senin</td>\n",
              "      <td>8</td>\n",
              "    </tr>\n",
              "  </tbody>\n",
              "</table>\n",
              "</div>\n",
              "      <button class=\"colab-df-convert\" onclick=\"convertToInteractive('df-0e8eccad-e764-4778-91d8-d91b844def6a')\"\n",
              "              title=\"Convert this dataframe to an interactive table.\"\n",
              "              style=\"display:none;\">\n",
              "        \n",
              "  <svg xmlns=\"http://www.w3.org/2000/svg\" height=\"24px\"viewBox=\"0 0 24 24\"\n",
              "       width=\"24px\">\n",
              "    <path d=\"M0 0h24v24H0V0z\" fill=\"none\"/>\n",
              "    <path d=\"M18.56 5.44l.94 2.06.94-2.06 2.06-.94-2.06-.94-.94-2.06-.94 2.06-2.06.94zm-11 1L8.5 8.5l.94-2.06 2.06-.94-2.06-.94L8.5 2.5l-.94 2.06-2.06.94zm10 10l.94 2.06.94-2.06 2.06-.94-2.06-.94-.94-2.06-.94 2.06-2.06.94z\"/><path d=\"M17.41 7.96l-1.37-1.37c-.4-.4-.92-.59-1.43-.59-.52 0-1.04.2-1.43.59L10.3 9.45l-7.72 7.72c-.78.78-.78 2.05 0 2.83L4 21.41c.39.39.9.59 1.41.59.51 0 1.02-.2 1.41-.59l7.78-7.78 2.81-2.81c.8-.78.8-2.07 0-2.86zM5.41 20L4 18.59l7.72-7.72 1.47 1.35L5.41 20z\"/>\n",
              "  </svg>\n",
              "      </button>\n",
              "      \n",
              "  <style>\n",
              "    .colab-df-container {\n",
              "      display:flex;\n",
              "      flex-wrap:wrap;\n",
              "      gap: 12px;\n",
              "    }\n",
              "\n",
              "    .colab-df-convert {\n",
              "      background-color: #E8F0FE;\n",
              "      border: none;\n",
              "      border-radius: 50%;\n",
              "      cursor: pointer;\n",
              "      display: none;\n",
              "      fill: #1967D2;\n",
              "      height: 32px;\n",
              "      padding: 0 0 0 0;\n",
              "      width: 32px;\n",
              "    }\n",
              "\n",
              "    .colab-df-convert:hover {\n",
              "      background-color: #E2EBFA;\n",
              "      box-shadow: 0px 1px 2px rgba(60, 64, 67, 0.3), 0px 1px 3px 1px rgba(60, 64, 67, 0.15);\n",
              "      fill: #174EA6;\n",
              "    }\n",
              "\n",
              "    [theme=dark] .colab-df-convert {\n",
              "      background-color: #3B4455;\n",
              "      fill: #D2E3FC;\n",
              "    }\n",
              "\n",
              "    [theme=dark] .colab-df-convert:hover {\n",
              "      background-color: #434B5C;\n",
              "      box-shadow: 0px 1px 3px 1px rgba(0, 0, 0, 0.15);\n",
              "      filter: drop-shadow(0px 1px 2px rgba(0, 0, 0, 0.3));\n",
              "      fill: #FFFFFF;\n",
              "    }\n",
              "  </style>\n",
              "\n",
              "      <script>\n",
              "        const buttonEl =\n",
              "          document.querySelector('#df-0e8eccad-e764-4778-91d8-d91b844def6a button.colab-df-convert');\n",
              "        buttonEl.style.display =\n",
              "          google.colab.kernel.accessAllowed ? 'block' : 'none';\n",
              "\n",
              "        async function convertToInteractive(key) {\n",
              "          const element = document.querySelector('#df-0e8eccad-e764-4778-91d8-d91b844def6a');\n",
              "          const dataTable =\n",
              "            await google.colab.kernel.invokeFunction('convertToInteractive',\n",
              "                                                     [key], {});\n",
              "          if (!dataTable) return;\n",
              "\n",
              "          const docLinkHtml = 'Like what you see? Visit the ' +\n",
              "            '<a target=\"_blank\" href=https://colab.research.google.com/notebooks/data_table.ipynb>data table notebook</a>'\n",
              "            + ' to learn more about interactive tables.';\n",
              "          element.innerHTML = '';\n",
              "          dataTable['output_type'] = 'display_data';\n",
              "          await google.colab.output.renderOutput(dataTable, element);\n",
              "          const docLink = document.createElement('div');\n",
              "          docLink.innerHTML = docLinkHtml;\n",
              "          element.appendChild(docLink);\n",
              "        }\n",
              "      </script>\n",
              "    </div>\n",
              "  </div>\n",
              "  "
            ]
          },
          "metadata": {},
          "execution_count": 10
        }
      ]
    },
    {
      "cell_type": "code",
      "source": [
        "#Akan dilihat kota dengan skor pengeluaran terbesar\n",
        "p= sns.catplot(x=\"Kota\", y=\"skor-pengeluaran\", data=df)"
      ],
      "metadata": {
        "colab": {
          "base_uri": "https://localhost:8080/",
          "height": 369
        },
        "id": "MElFfKcmqPxq",
        "outputId": "95507214-5d7f-476e-c41a-3e2ebd60e232"
      },
      "execution_count": 11,
      "outputs": [
        {
          "output_type": "display_data",
          "data": {
            "text/plain": [
              "<Figure size 360x360 with 1 Axes>"
            ],
            "image/png": "[encoded data removed]"
          },
          "metadata": {
            "needs_background": "light"
          }
        }
      ]
    },
    {
      "cell_type": "markdown",
      "source": [
        "Dari Category Plot, Kota Depok mengeluarkan skor pengeluaran terbesar dan Kota Tangerang memiliki skor pengeluaran Kota Tangerang"
      ],
      "metadata": {
        "id": "ScTEj6zP3mXj"
      }
    },
    {
      "cell_type": "code",
      "source": [
        "#Akan dicari rasa favorit di tiap kota\n",
        "plt.figure(figsize=(8,6))\n",
        "p = sns.countplot(x=\"Kota\", hue=\"FavFlavor\", data=df)"
      ],
      "metadata": {
        "colab": {
          "base_uri": "https://localhost:8080/",
          "height": 388
        },
        "id": "-NKhbrKoqROQ",
        "outputId": "3d3c2910-f8f9-4667-dcd8-f2b161178116"
      },
      "execution_count": 12,
      "outputs": [
        {
          "output_type": "display_data",
          "data": {
            "text/plain": [
              "<Figure size 576x432 with 1 Axes>"
            ],
            "image/png": "[encoded data removed]"
          },
          "metadata": {
            "needs_background": "light"
          }
        }
      ]
    },
    {
      "cell_type": "markdown",
      "source": [
        "Dari plot di atas, dapat dilihat rasa vanila merupakan rasa paling favorit di Kota Depok. Lalu di Kota Jakarta, rasa paling favorit kostumer adalah vanila, blueberry, bubblegum dan rasa campuran. Lalu rasa paling favorit di Kota Tangerang adalah rasa vanila, stroberi, dan cokelat."
      ],
      "metadata": {
        "id": "eFpzng9F34B3"
      }
    },
    {
      "cell_type": "code",
      "source": [
        "#Akan dicari hari favorit di tiap kota\n",
        "plt.figure(figsize=(8,6))\n",
        "p = sns.countplot(x=\"Kota\", hue=\"HariFav\", data=df)"
      ],
      "metadata": {
        "colab": {
          "base_uri": "https://localhost:8080/",
          "height": 388
        },
        "id": "MoON6A2LqRTA",
        "outputId": "47f006aa-240c-43f0-99e3-87c7528c272e"
      },
      "execution_count": 33,
      "outputs": [
        {
          "output_type": "display_data",
          "data": {
            "text/plain": [
              "<Figure size 576x432 with 1 Axes>"
            ],
            "image/png": "[encoded data removed]"
          },
          "metadata": {
            "needs_background": "light"
          }
        }
      ]
    },
    {
      "cell_type": "markdown",
      "source": [
        "Dilihat dari plot di atas, Kota Depok paling sering dikunjungi pada hari Senin. Lalu Kota Jakarta paling sering dikunjungi di hari Senin dan Sabtu. Dan Kota Tangerang paling sering dikunjungi di hari Sabtu."
      ],
      "metadata": {
        "id": "DknmopWq4U9k"
      }
    },
    {
      "cell_type": "code",
      "source": [
        "df['Promo_label'] = df[\"Promo\"].replace(0.0, 'Tidak Pernah')\n",
        "df['Promo_label'] = df[\"Promo\"].replace(1.0, 'Jarang')\n",
        "df['Promo_label'] = df[\"Promo\"].replace(2.0, 'Sedang')\n",
        "df['Promo_label'] = df[\"Promo\"].replace(3.0, 'Sering')\n",
        "\n",
        "plot = df.Promo_label.value_counts().plot(kind='pie')"
      ],
      "metadata": {
        "colab": {
          "base_uri": "https://localhost:8080/",
          "height": 248
        },
        "id": "cDMkqEUIqVvo",
        "outputId": "75e3dc14-b2c2-4c4b-cd1f-bf3ea7d3276b"
      },
      "execution_count": 34,
      "outputs": [
        {
          "output_type": "display_data",
          "data": {
            "text/plain": [
              "<Figure size 432x288 with 1 Axes>"
            ],
            "image/png": "[encoded data removed]"
          },
          "metadata": {}
        }
      ]
    },
    {
      "cell_type": "markdown",
      "source": [
        "Dari pie plot di atas, dapat dilihat perbandingan penggunaan promo yang dipakai kostumer."
      ],
      "metadata": {
        "id": "4vwOeWjr4kEp"
      }
    },
    {
      "cell_type": "markdown",
      "source": [
        "## Customer Segmentation dengan K-Means Clustering"
      ],
      "metadata": {
        "id": "1bS08CDfVQHb"
      }
    },
    {
      "cell_type": "markdown",
      "source": [
        "Akan dilakukan pengelompokkan pelanggan dengan metode K-Means Clustering. Pertama-tama, dilakukan standarisasi data terlebih dahulu untuk menyeragamkan nilai-nilai data agar seluruh data memiliki format yang konsisten dan menjadi standar."
      ],
      "metadata": {
        "id": "2lCWrQPnfW2u"
      }
    },
    {
      "cell_type": "code",
      "source": [
        "### Standarisasi Data ###\n",
        "\n",
        "# Memisahkan kolom yang bertipe numerik dan kategorik\n",
        "df_num = df.select_dtypes(include='int64')\n",
        "df_cat = df.select_dtypes(include='category')\n",
        "\n",
        "# Standarisasi semua kolom yang numerik\n",
        "cluster_scaler = preprocessing.RobustScaler() # robustscaler digunakan untuk menghindari outliers\n",
        "X_num_scaled = pd.DataFrame(cluster_scaler.fit_transform(df_num),\n",
        "                             columns=df_num.columns)\n",
        "\n",
        "# One hot encode kolom kategorik\n",
        "df_cat = pd.get_dummies(df_cat)\n",
        "\n",
        "# Gabungkan kembali kedua data tersebut\n",
        "df_cluster = pd.concat([X_num_scaled.reset_index(drop=True), df_cat.reset_index(drop=True)], axis=1)"
      ],
      "metadata": {
        "id": "GMsmf4HgVU00"
      },
      "execution_count": 13,
      "outputs": []
    },
    {
      "cell_type": "markdown",
      "source": [
        "Selanjutnya akan ditentukan jumlah kluster yang paling optimal dengan Metode Elbow. Banyaknya kluster yang dipilih didasarkan pada letak titik dimana terdapat penurunan yang tajam sebelum titik tersebut dan disusul penurunan yang tidak tajam setelah titik tersebut."
      ],
      "metadata": {
        "id": "jOgBctntfdig"
      }
    },
    {
      "cell_type": "code",
      "source": [
        "### Menentukan Jumlah Kluster Paling Optimal dengan Elbow Method ###\n",
        "\n",
        "inertia = []\n",
        "n_cluster = range(2, 11)\n",
        "\n",
        "for c in n_cluster:\n",
        "  km = cluster.KMeans(n_clusters=c, init='k-means++', max_iter=200)\n",
        "  km.fit(df_cluster)\n",
        "  inertia.append(km.inertia_)\n",
        "\n",
        "sns.lineplot(x=n_cluster, y=inertia, marker='o')\n",
        "plt.axvline(x=4, color='red', linestyle='--')\n",
        "plt.title('Elbow Method Plot', y=1.05, fontsize=15)\n",
        "plt.ylabel('inertia score')\n",
        "plt.xlabel('number of clusters')\n",
        "\n",
        "plt.show()"
      ],
      "metadata": {
        "colab": {
          "base_uri": "https://localhost:8080/",
          "height": 308
        },
        "id": "1uiXM9SpWLLN",
        "outputId": "7a1ebd2f-5f85-4c9b-98c6-0f3858ff6764"
      },
      "execution_count": 14,
      "outputs": [
        {
          "output_type": "display_data",
          "data": {
            "text/plain": [
              "<Figure size 432x288 with 1 Axes>"
            ],
            "image/png": "[encoded data removed]"
          },
          "metadata": {
            "needs_background": "light"
          }
        }
      ]
    },
    {
      "cell_type": "markdown",
      "source": [
        "Berdasarkan Elbow Plot di atas, banyak kluster yang dipilih adalah sebanyak 4 kluster, karena inertia score setelah kluster ketiga sudah tidak berkurang secara signifikan."
      ],
      "metadata": {
        "id": "qTY7vJpdhAbE"
      }
    },
    {
      "cell_type": "markdown",
      "source": [
        "Kemudian akan ditentukan jumlah kluster yang paling optimal dengan Metode Silhouette. Banyaknya kluster yang dipilih didasarkan pada titik dimana titik dimana silhouette score memiliki nilai tertinggi"
      ],
      "metadata": {
        "id": "JqtZeLKxhNHC"
      }
    },
    {
      "cell_type": "code",
      "source": [
        "### Menentukan Jumlah Kluster Paling Optimal dengan Silhouette Method ###\n",
        "\n",
        "sil_score = []\n",
        "n_cluster = range(2, 11)\n",
        "\n",
        "for c in n_cluster:\n",
        "  km = cluster.KMeans(n_clusters=c, init='k-means++', max_iter=200)\n",
        "  km.fit(df_cluster)\n",
        "  avg_sil_score = silhouette_score(df_cluster, km.labels_, metric='euclidean')\n",
        "  sil_score.append(avg_sil_score)\n",
        "\n",
        "sns.lineplot(x=n_cluster, y=sil_score, marker='X', color='green')\n",
        "plt.axvline(x=4, color='red', linestyle='--')\n",
        "plt.title('Silhouette Method Plot', y=1.05, fontsize=15)\n",
        "plt.xlabel('number of clusters')\n",
        "plt.ylabel('silhouette score')\n",
        "\n",
        "plt.show()"
      ],
      "metadata": {
        "colab": {
          "base_uri": "https://localhost:8080/",
          "height": 308
        },
        "id": "4TbfRCK-Y11D",
        "outputId": "250a95e1-cc59-423e-ee9c-c372fba14f70"
      },
      "execution_count": 36,
      "outputs": [
        {
          "output_type": "display_data",
          "data": {
            "text/plain": [
              "<Figure size 432x288 with 1 Axes>"
            ],
            "image/png": "[encoded data removed]"
          },
          "metadata": {
            "needs_background": "light"
          }
        }
      ]
    },
    {
      "cell_type": "markdown",
      "source": [
        "Berdasarkan Silhouette Plot di atas, banyak kluster yang dipilih adalah sebanyak 4 kluster, karena silhouette score memiliki nilai tertinggi pada kluster keempat."
      ],
      "metadata": {
        "id": "fjwqE2HBhT8d"
      }
    },
    {
      "cell_type": "markdown",
      "source": [
        "Selanjutnya, akan dilakukan clustering dengan menggunakan metode K-Means++. Metode ini menginisialisasi centorid secara tidak random, namun dengan cara melihat probabilitas data terbaik untuk menjadi centroid awal. Selain itu, iterasi yang dibutuhkan juga lebih sedikit dibandingkan dengan K-Means biasa."
      ],
      "metadata": {
        "id": "cS7CoQbGhvMS"
      }
    },
    {
      "cell_type": "code",
      "source": [
        "### Conduct K-Means Clustering ###\n",
        "\n",
        "km_final = cluster.KMeans(n_clusters=4, init='k-means++', max_iter=200, random_state=699)\n",
        "km_final.fit(df_cluster)\n",
        "\n",
        "df['Cluster'] = km_final.labels_\n",
        "\n",
        "df['Cluster'].value_counts()"
      ],
      "metadata": {
        "colab": {
          "base_uri": "https://localhost:8080/"
        },
        "id": "PJ4dmx-zZM6-",
        "outputId": "a0e900ae-2b58-4548-dc9b-fd52d50f9f3b"
      },
      "execution_count": 37,
      "outputs": [
        {
          "output_type": "execute_result",
          "data": {
            "text/plain": [
              "0    54\n",
              "2    44\n",
              "1    41\n",
              "3    37\n",
              "Name: Cluster, dtype: int64"
            ]
          },
          "metadata": {},
          "execution_count": 37
        }
      ]
    },
    {
      "cell_type": "markdown",
      "source": [
        "Setelah dilakukan klustering dengan menggunakan metode k-means++ dengan 4 kluster, diperoleh bahwa terdapat 37 pelanggan pada kluster pertama, 41 pelanggan pada kluster kedua, 45 pelanggan pada kluster ketiga, dan 53 pelanggan pada kluster keempat."
      ],
      "metadata": {
        "id": "vVNrLYrUjfsl"
      }
    },
    {
      "cell_type": "markdown",
      "source": [
        "Selanjutnya, akan dilakukan evaluasi dari model K-Means yang didapat menggunakan Silhouette Score dan DB Index, dimana semakin Silhouette Score mendekati 1, maka semakin baik model yang digunakan. Sedangkan, semakin rendah DB Index, maka semakin baik model yang digunakan."
      ],
      "metadata": {
        "id": "tJ23pjWPk59b"
      }
    },
    {
      "cell_type": "code",
      "source": [
        "### Evaluate The K-Means Model ###\n",
        "\n",
        "# Using silhouette score\n",
        "avg_sil = silhouette_score(df_cluster, km_final.labels_, metric='euclidean')\n",
        "print('Silhouette score: ', round(avg_sil, 2))\n",
        "\n",
        "# Using DB index\n",
        "db = davies_bouldin_score(df_cluster, km_final.labels_)\n",
        "print('DB index: ', round(db, 2))"
      ],
      "metadata": {
        "colab": {
          "base_uri": "https://localhost:8080/"
        },
        "id": "i4OSQpe1ZjSS",
        "outputId": "a4aec55b-0410-4721-e1bf-abab1ab4ddb0"
      },
      "execution_count": 38,
      "outputs": [
        {
          "output_type": "stream",
          "name": "stdout",
          "text": [
            "Silhouette score:  0.2\n",
            "DB index:  1.8\n"
          ]
        }
      ]
    },
    {
      "cell_type": "markdown",
      "source": [
        "Selanjutnya, akan dicari median dari masing-masing kluster yang telah didapatkan. Hal ini bertujuan untuk melihat kluster mana yang memiliki skor pengeluaran paling tinggi. "
      ],
      "metadata": {
        "id": "IrPmtYTOlKnB"
      }
    },
    {
      "cell_type": "code",
      "source": [
        "### Mencari Cluster dengan Skor Pengeluaran Paling Tinggi ###\n",
        "\n",
        "df.groupby('Cluster')['skor-pengeluaran'].median()"
      ],
      "metadata": {
        "colab": {
          "base_uri": "https://localhost:8080/"
        },
        "id": "RrDNvFGNZseg",
        "outputId": "91a529d1-4b66-42bc-d62f-480142ce6852"
      },
      "execution_count": 39,
      "outputs": [
        {
          "output_type": "execute_result",
          "data": {
            "text/plain": [
              "Cluster\n",
              "0    78.5\n",
              "1    55.0\n",
              "2    14.0\n",
              "3    42.0\n",
              "Name: skor-pengeluaran, dtype: float64"
            ]
          },
          "metadata": {},
          "execution_count": 39
        }
      ]
    },
    {
      "cell_type": "code",
      "source": [
        "df_cluster0 = df[df['Cluster']==0]\n",
        "\n",
        "# Summary variabel numerik pada kluster 0\n",
        "display(df_cluster0[['Umur', 'Pendapatan-per-bulan']].median())\n",
        "print('\\n')\n",
        "\n",
        "# Summary variabel kategorik pada kluster 0\n",
        "display(df_cluster0.select_dtypes(include='category').mode())"
      ],
      "metadata": {
        "colab": {
          "base_uri": "https://localhost:8080/",
          "height": 168
        },
        "id": "JE5gNQVZa7_O",
        "outputId": "4c0df2ea-4b9e-45bf-9f26-3da3b194d8e9"
      },
      "execution_count": 40,
      "outputs": [
        {
          "output_type": "display_data",
          "data": {
            "text/plain": [
              "Umur                          30.0\n",
              "Pendapatan-per-bulan    23770491.0\n",
              "dtype: float64"
            ]
          },
          "metadata": {}
        },
        {
          "output_type": "stream",
          "name": "stdout",
          "text": [
            "\n",
            "\n"
          ]
        },
        {
          "output_type": "display_data",
          "data": {
            "text/plain": [
              "  Jenis Kelamin Menikah   Kota Promo HariFav FavFlavor Promo_label\n",
              "0        Wanita       1  Depok   1.0   Senin         0         1.0"
            ],
            "text/html": [
              "\n",
              "  <div id=\"df-6087f529-54f5-4011-a721-029c9c717742\">\n",
              "    <div class=\"colab-df-container\">\n",
              "      <div>\n",
              "<style scoped>\n",
              "    .dataframe tbody tr th:only-of-type {\n",
              "        vertical-align: middle;\n",
              "    }\n",
              "\n",
              "    .dataframe tbody tr th {\n",
              "        vertical-align: top;\n",
              "    }\n",
              "\n",
              "    .dataframe thead th {\n",
              "        text-align: right;\n",
              "    }\n",
              "</style>\n",
              "<table border=\"1\" class=\"dataframe\">\n",
              "  <thead>\n",
              "    <tr style=\"text-align: right;\">\n",
              "      <th></th>\n",
              "      <th>Jenis Kelamin</th>\n",
              "      <th>Menikah</th>\n",
              "      <th>Kota</th>\n",
              "      <th>Promo</th>\n",
              "      <th>HariFav</th>\n",
              "      <th>FavFlavor</th>\n",
              "      <th>Promo_label</th>\n",
              "    </tr>\n",
              "  </thead>\n",
              "  <tbody>\n",
              "    <tr>\n",
              "      <th>0</th>\n",
              "      <td>Wanita</td>\n",
              "      <td>1</td>\n",
              "      <td>Depok</td>\n",
              "      <td>1.0</td>\n",
              "      <td>Senin</td>\n",
              "      <td>0</td>\n",
              "      <td>1.0</td>\n",
              "    </tr>\n",
              "  </tbody>\n",
              "</table>\n",
              "</div>\n",
              "      <button class=\"colab-df-convert\" onclick=\"convertToInteractive('df-6087f529-54f5-4011-a721-029c9c717742')\"\n",
              "              title=\"Convert this dataframe to an interactive table.\"\n",
              "              style=\"display:none;\">\n",
              "        \n",
              "  <svg xmlns=\"http://www.w3.org/2000/svg\" height=\"24px\"viewBox=\"0 0 24 24\"\n",
              "       width=\"24px\">\n",
              "    <path d=\"M0 0h24v24H0V0z\" fill=\"none\"/>\n",
              "    <path d=\"M18.56 5.44l.94 2.06.94-2.06 2.06-.94-2.06-.94-.94-2.06-.94 2.06-2.06.94zm-11 1L8.5 8.5l.94-2.06 2.06-.94-2.06-.94L8.5 2.5l-.94 2.06-2.06.94zm10 10l.94 2.06.94-2.06 2.06-.94-2.06-.94-.94-2.06-.94 2.06-2.06.94z\"/><path d=\"M17.41 7.96l-1.37-1.37c-.4-.4-.92-.59-1.43-.59-.52 0-1.04.2-1.43.59L10.3 9.45l-7.72 7.72c-.78.78-.78 2.05 0 2.83L4 21.41c.39.39.9.59 1.41.59.51 0 1.02-.2 1.41-.59l7.78-7.78 2.81-2.81c.8-.78.8-2.07 0-2.86zM5.41 20L4 18.59l7.72-7.72 1.47 1.35L5.41 20z\"/>\n",
              "  </svg>\n",
              "      </button>\n",
              "      \n",
              "  <style>\n",
              "    .colab-df-container {\n",
              "      display:flex;\n",
              "      flex-wrap:wrap;\n",
              "      gap: 12px;\n",
              "    }\n",
              "\n",
              "    .colab-df-convert {\n",
              "      background-color: #E8F0FE;\n",
              "      border: none;\n",
              "      border-radius: 50%;\n",
              "      cursor: pointer;\n",
              "      display: none;\n",
              "      fill: #1967D2;\n",
              "      height: 32px;\n",
              "      padding: 0 0 0 0;\n",
              "      width: 32px;\n",
              "    }\n",
              "\n",
              "    .colab-df-convert:hover {\n",
              "      background-color: #E2EBFA;\n",
              "      box-shadow: 0px 1px 2px rgba(60, 64, 67, 0.3), 0px 1px 3px 1px rgba(60, 64, 67, 0.15);\n",
              "      fill: #174EA6;\n",
              "    }\n",
              "\n",
              "    [theme=dark] .colab-df-convert {\n",
              "      background-color: #3B4455;\n",
              "      fill: #D2E3FC;\n",
              "    }\n",
              "\n",
              "    [theme=dark] .colab-df-convert:hover {\n",
              "      background-color: #434B5C;\n",
              "      box-shadow: 0px 1px 3px 1px rgba(0, 0, 0, 0.15);\n",
              "      filter: drop-shadow(0px 1px 2px rgba(0, 0, 0, 0.3));\n",
              "      fill: #FFFFFF;\n",
              "    }\n",
              "  </style>\n",
              "\n",
              "      <script>\n",
              "        const buttonEl =\n",
              "          document.querySelector('#df-6087f529-54f5-4011-a721-029c9c717742 button.colab-df-convert');\n",
              "        buttonEl.style.display =\n",
              "          google.colab.kernel.accessAllowed ? 'block' : 'none';\n",
              "\n",
              "        async function convertToInteractive(key) {\n",
              "          const element = document.querySelector('#df-6087f529-54f5-4011-a721-029c9c717742');\n",
              "          const dataTable =\n",
              "            await google.colab.kernel.invokeFunction('convertToInteractive',\n",
              "                                                     [key], {});\n",
              "          if (!dataTable) return;\n",
              "\n",
              "          const docLinkHtml = 'Like what you see? Visit the ' +\n",
              "            '<a target=\"_blank\" href=https://colab.research.google.com/notebooks/data_table.ipynb>data table notebook</a>'\n",
              "            + ' to learn more about interactive tables.';\n",
              "          element.innerHTML = '';\n",
              "          dataTable['output_type'] = 'display_data';\n",
              "          await google.colab.output.renderOutput(dataTable, element);\n",
              "          const docLink = document.createElement('div');\n",
              "          docLink.innerHTML = docLinkHtml;\n",
              "          element.appendChild(docLink);\n",
              "        }\n",
              "      </script>\n",
              "    </div>\n",
              "  </div>\n",
              "  "
            ]
          },
          "metadata": {}
        }
      ]
    },
    {
      "cell_type": "markdown",
      "source": [
        "Berdasarkan hasil algoritma K-Means clustering, didapatkan 4 kluster. disini kami akan berfokus pada cluster 0 yang merupakan cluster dengan skor pengeluaran terbesar dibanding dengan cluster yg lain\n",
        "\n",
        "Pada cluster 0, kita dapat melihat bahwa ciri-ciri kustomer dengan skor pengeluaran terbesar rata-rata berumur 32 tahun, rata-rata pendapatan perbulan Rp.25.819.672,00, berjenis kelamin Wanita, Telah menikah, jarang menggunakan promo, hari favorit mereka kebanyakan senin, dan rasa favorit mereka vanilla\n",
        "\n",
        "disini kami menyarankan kepada MixITup ketika ingin scaling bisnis ke kota lain, untuk dapat mencari daerah atau kawasan dengan profil diatas, yaitu kawasan dengan kebanyakan Wanita yang sudah menikah dan dengan rata-rata pendapatan perbulan Rp.25.819.672,00\n",
        "\n",
        "Tim kami menyarankan untuk pembukaan toko di area perumahan dengan ekonomi menengah keatas, karena dengan profil kustomer diatas kita berhipotesis bahwa kustomer dengan poin pengeluaran terbesar adalah ibu rumah tangga, dengan kisaran umur 32 tahun, dan telah menikah, kita juga berasumsi alasan lain kenapa poin pengeluaran tinggi adalah mereka membelikan es-krim selain untuk diri mereka sendiri juga untuk anak mereka, jadi kita dapat menargetkan pasar kita ke Ibu dan Anak, ini bisa juga dijadikan sebagai bentuk promosi atau marketing."
      ],
      "metadata": {
        "id": "WtI7YdpIibRP"
      }
    }
  ]
}